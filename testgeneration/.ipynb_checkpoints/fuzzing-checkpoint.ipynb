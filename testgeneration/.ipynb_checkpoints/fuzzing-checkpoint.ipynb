{
 "cells": [
  {
   "cell_type": "markdown",
   "metadata": {},
   "source": [
    "# Fuzzing\n",
    "Fuzzing is a software testing technique in which the goal is to automatically feed a given program with a sequence of randomly generated inputs in order to find errors or inadequate behaviors in its execution. The generation of inputs is made by a program called a Fuzzer, which usually strives to create data that is valid enough to be accepted by the test subject while also hitting some obscure edge-case the developers had never thought of. This technique is also very useful for discovering security vulnerabilities in a given system since the random inputs might trigger some exploitable behavior such as a buffer overflows and DoS.\n",
    "\n",
    "## Hands on with pythonfuzz\n",
    "The fuzzer known as [*pythonfuzz*](https://gitlab.com/gitlab-org/security-products/analyzers/fuzzers/pythonfuzz) is a simple yet powerful example of what a fuzzer can do. In essence, all it does is receive a function which will be called infinitely with different randomly generated inputs each time until it eventually finds an unexpected exception. <br/>\n",
    "First things first, let's install it:"
   ]
  },
  {
   "cell_type": "code",
   "execution_count": 1,
   "metadata": {},
   "outputs": [
    {
     "name": "stdout",
     "output_type": "stream",
     "text": [
      "Collecting pythonfuzz\n",
      "  Downloading pythonfuzz-1.0.3.tar.gz (8.2 kB)\n",
      "Collecting coverage==4.5.4\n",
      "  Downloading coverage-4.5.4.tar.gz (385 kB)\n",
      "\u001b[K     |████████████████████████████████| 385 kB 759 kB/s eta 0:00:01\n",
      "\u001b[?25hCollecting numpy==1.17.3\n",
      "  Downloading numpy-1.17.3-cp38-cp38-manylinux1_x86_64.whl (20.5 MB)\n",
      "\u001b[K     |████████████████████████████████| 20.5 MB 2.0 MB/s eta 0:00:01\n",
      "\u001b[?25hCollecting psutil==5.6.3\n",
      "  Downloading psutil-5.6.3.tar.gz (435 kB)\n",
      "\u001b[K     |████████████████████████████████| 435 kB 1.7 MB/s eta 0:00:01\n",
      "\u001b[?25hBuilding wheels for collected packages: pythonfuzz, coverage, psutil\n",
      "  Building wheel for pythonfuzz (setup.py) ... \u001b[?25ldone\n",
      "\u001b[?25h  Created wheel for pythonfuzz: filename=pythonfuzz-1.0.3-py3-none-any.whl size=8288 sha256=237b971f2ad064808f49693fde6bab852b08e0bdb8c1112ae84e69d788c07ff1\n",
      "  Stored in directory: /home/claudio/.cache/pip/wheels/e3/31/2c/4aa7748e161a1b7d82049ddc39ec8a0a2a919ff5d9af6eb1c6\n",
      "  Building wheel for coverage (setup.py) ... \u001b[?25ldone\n",
      "\u001b[?25h  Created wheel for coverage: filename=coverage-4.5.4-cp38-cp38-linux_x86_64.whl size=216666 sha256=c652c8b00975e59c532ffb225232a8b8a494cb9b5a4c6ce57f1586e71312f247\n",
      "  Stored in directory: /home/claudio/.cache/pip/wheels/e7/0e/3f/4d16d7576f1070cf1a0028b1664aff2cc8e84c9c0e2b8f3207\n",
      "  Building wheel for psutil (setup.py) ... \u001b[?25ldone\n",
      "\u001b[?25h  Created wheel for psutil: filename=psutil-5.6.3-cp38-cp38-linux_x86_64.whl size=286036 sha256=ddd9d6197e50a2a2bcafbe4169dc2ff5d50bff4dba0808dff11d5aae3e4bd02e\n",
      "  Stored in directory: /home/claudio/.cache/pip/wheels/ab/a0/1a/5f24a8e77f381bce222bb1e30e9ca899c1a96223d6d40260a8\n",
      "Successfully built pythonfuzz coverage psutil\n",
      "Installing collected packages: coverage, numpy, psutil, pythonfuzz\n",
      "Successfully installed coverage-4.5.4 numpy-1.17.3 psutil-5.6.3 pythonfuzz-1.0.3\n",
      "Note: you may need to restart the kernel to use updated packages.\n"
     ]
    }
   ],
   "source": [
    "pip install pythonfuzz"
   ]
  },
  {
   "cell_type": "markdown",
   "metadata": {},
   "source": [
    "# Defining a test subject\n",
    "For this example, let's test the parsing method in Python's built in html module."
   ]
  },
  {
   "cell_type": "code",
   "execution_count": null,
   "metadata": {},
   "outputs": [],
   "source": []
  }
 ],
 "metadata": {
  "kernelspec": {
   "display_name": "Python 3",
   "language": "python",
   "name": "python3"
  },
  "language_info": {
   "codemirror_mode": {
    "name": "ipython",
    "version": 3
   },
   "file_extension": ".py",
   "mimetype": "text/x-python",
   "name": "python",
   "nbconvert_exporter": "python",
   "pygments_lexer": "ipython3",
   "version": "3.8.2"
  }
 },
 "nbformat": 4,
 "nbformat_minor": 4
}
