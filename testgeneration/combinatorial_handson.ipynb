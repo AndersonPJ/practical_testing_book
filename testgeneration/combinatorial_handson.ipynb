{
  "nbformat": 4,
  "nbformat_minor": 0,
  "metadata": {
    "colab": {
      "name": "combinatorial_handson.ipynb",
      "provenance": [],
      "collapsed_sections": []
    },
    "kernelspec": {
      "name": "python3",
      "display_name": "Python 3"
    }
  },
  "cells": [
    {
      "cell_type": "markdown",
      "metadata": {
        "id": "-ximsyvKIyUO",
        "colab_type": "text"
      },
      "source": [
        "Now that you understand what a combinatorial test is, let’s see in practice how it is done. In our tutorial we'll be using a tool for generating combinatorial parameters called [Covertable](https://github.com/walkframe/covertable/blob/master/python/README.rst) and a testing library for Python called [Pytest](https://github.com/pytest-dev/pytest)."
      ]
    },
    {
      "cell_type": "markdown",
      "metadata": {
        "id": "V86ZzMAjJ26S",
        "colab_type": "text"
      },
      "source": [
        "## Motivation\n",
        "Let’s start by looking at the file code.py which has the code we want to test"
      ]
    },
    {
      "cell_type": "markdown",
      "metadata": {
        "id": "ISGfRHs6luKC",
        "colab_type": "text"
      },
      "source": [
        "```python\n",
        "def important_function(pressure, volume, velocity, low_fuel):\n",
        "    if pressure < 10:\n",
        "        if volume > 300:\n",
        "            if velocity == 5:\n",
        "                do_something_bad()\n",
        "        elif low_fuel:\n",
        "            do_something_good()\n",
        "    else:\n",
        "        do_something_good()\n",
        "\n",
        "def do_something_good():\n",
        "    pass\n",
        "\n",
        "def do_something_bad():\n",
        "    raise Exception(\"A bug happened!\")\n",
        "```\n",
        "\n"
      ]
    },
    {
      "cell_type": "markdown",
      "metadata": {
        "id": "YLE72TpUOKMM",
        "colab_type": "text"
      },
      "source": [
        "We want to test important_function, which takes three integer parameters and a boolean. Looking at the code, we can see that there’s a bug (do_something_bad) in one of the function’s branches. But the bug only happens if the three parameters satisfy some conditions: `pressure < 10`, `volume > 300`, and `velocity == 5`. So the bug is a result of a three-way interaction, because it happens only for a specific combination of those three parameters."
      ]
    },
    {
      "cell_type": "markdown",
      "metadata": {
        "id": "pXwkP8SSWSWz",
        "colab_type": "text"
      },
      "source": [
        "## Executing test set with Pytest and Covertable\n",
        "Now that we took a look in the code that we want to test, let's see how can we actually use Covertable and Pytest to generate the combination of parameters that will spot the bug."
      ]
    },
    {
      "cell_type": "markdown",
      "metadata": {
        "id": "QpeC45GP2UvA",
        "colab_type": "text"
      },
      "source": [
        "First, we need to install both pytest and covertable dependencies:"
      ]
    },
    {
      "cell_type": "code",
      "metadata": {
        "id": "BMGwWbc2RpQV",
        "colab_type": "code",
        "colab": {
          "base_uri": "https://localhost:8080/",
          "height": 170
        },
        "outputId": "1d18effa-efd6-40ce-91f4-926e8b49f38e"
      },
      "source": [
        "%%bash\n",
        "\n",
        "pip install pytest\n",
        "pip install covertable"
      ],
      "execution_count": 4,
      "outputs": [
        {
          "output_type": "stream",
          "text": [
            "Requirement already satisfied: pytest in /usr/local/lib/python3.6/dist-packages (3.6.4)\n",
            "Requirement already satisfied: six>=1.10.0 in /usr/local/lib/python3.6/dist-packages (from pytest) (1.15.0)\n",
            "Requirement already satisfied: setuptools in /usr/local/lib/python3.6/dist-packages (from pytest) (49.1.0)\n",
            "Requirement already satisfied: pluggy<0.8,>=0.5 in /usr/local/lib/python3.6/dist-packages (from pytest) (0.7.1)\n",
            "Requirement already satisfied: atomicwrites>=1.0 in /usr/local/lib/python3.6/dist-packages (from pytest) (1.4.0)\n",
            "Requirement already satisfied: attrs>=17.4.0 in /usr/local/lib/python3.6/dist-packages (from pytest) (19.3.0)\n",
            "Requirement already satisfied: py>=1.5.0 in /usr/local/lib/python3.6/dist-packages (from pytest) (1.9.0)\n",
            "Requirement already satisfied: more-itertools>=4.0.0 in /usr/local/lib/python3.6/dist-packages (from pytest) (8.4.0)\n",
            "Requirement already satisfied: covertable in /usr/local/lib/python3.6/dist-packages (2.0.1)\n"
          ],
          "name": "stdout"
        }
      ]
    },
    {
      "cell_type": "markdown",
      "metadata": {
        "id": "ZQoek_Nc3PcN",
        "colab_type": "text"
      },
      "source": [
        "Now that we have the dependencies installed, let's take a look in the file `test_parameterized.py`, which implements a test using those libraries."
      ]
    },
    {
      "cell_type": "markdown",
      "metadata": {
        "id": "Vj5OTx5Ul3mf",
        "colab_type": "text"
      },
      "source": [
        "```python\n",
        "import pytest\n",
        "from covertable import make\n",
        "\n",
        "@pytest.mark.parametrize([\"pressure\", \"volume\", \"velocity\", \"low_fuel\"],\n",
        "    make([[5,10,15],\n",
        "        [200, 300, 400],\n",
        "        [1, 2, 3, 4, 5],\n",
        "        [True, False]], length=3)\n",
        ")\n",
        "def test_important_function(pressure, volume, velocity, low_fuel):\n",
        "    important_function(pressure, volume, velocity, low_fuel)\n",
        "\n"
      ]
    },
    {
      "cell_type": "markdown",
      "metadata": {
        "id": "HwaKPTd-6sNs",
        "colab_type": "text"
      },
      "source": [
        "As you can see, `pytest` provides us the annotation `@pytest.mak.parametrize` that receives two arguments: an array of parameters names and a array of array of values for each of those parameters. The function below this annotation will be tested for each of the values specified in the second argument.\n",
        "\n"
      ]
    },
    {
      "cell_type": "markdown",
      "metadata": {
        "id": "FLmzh2RJOCE7",
        "colab_type": "text"
      },
      "source": [
        "In the first argument, we need to provide the name of the parameters we want to test. In this case, as we want to test `important_function`, we need to pass `[\"pressure\", \"volume\", \"velocity\", \"low_fuel\"]`."
      ]
    },
    {
      "cell_type": "markdown",
      "metadata": {
        "id": "n-VF2xWQZJgP",
        "colab_type": "text"
      },
      "source": [
        "In the second argument, we need to pass an array of array of values, that would be the combination of parameters given to `important_function`. To do that, we will be using `covertable` function called `make`. This function receives an array of array of values and return an array with the combination of them. To be more clear, as we passed `[5,10,15]` as the first element of the array, those are the possible values for the parameter `pressure`, `[200, 300, 400]` would be the possible values for the parameter `volume` and so on."
      ]
    },
    {
      "cell_type": "markdown",
      "metadata": {
        "id": "kqpwSQM0cQx4",
        "colab_type": "text"
      },
      "source": [
        "It's important to notice that `make` also accepts some configuration. In the second argument, we set `length=3`. This is the degree of interaction that we teached earlier in this article. As we need the combination of `pressure`, `volume`, and `velocity` to catch the bug, our degree of interaction will be 3\n",
        "(in a real-world scenario, though, we wouldn’t know when a bug happens. So, you would want to choose a degree of interaction that gives you an appropriate level of confidence, as we discussed)."
      ]
    },
    {
      "cell_type": "markdown",
      "metadata": {
        "id": "b_Q0FglEcW7s",
        "colab_type": "text"
      },
      "source": [
        "Now that we have our test file, we just need to run pytest and see if there's a bug:"
      ]
    },
    {
      "cell_type": "code",
      "metadata": {
        "id": "aJxQLiGkl8l8",
        "colab_type": "code",
        "colab": {
          "base_uri": "https://localhost:8080/",
          "height": 612
        },
        "outputId": "65edba1a-7962-41ed-d5ae-150ef9152da0"
      },
      "source": [
        "%%bash\n",
        "\n",
        "python -m pytest"
      ],
      "execution_count": 5,
      "outputs": [
        {
          "output_type": "stream",
          "text": [
            "============================= test session starts ==============================\n",
            "platform linux -- Python 3.6.9, pytest-3.6.4, py-1.9.0, pluggy-0.7.1\n",
            "rootdir: /content, inifile:\n",
            "plugins: typeguard-2.7.1\n",
            "collected 45 items\n",
            "\n",
            "sample_data/test_parameterized.py ...........F.......................... [ 84%]\n",
            ".......                                                                  [100%]\n",
            "\n",
            "=================================== FAILURES ===================================\n",
            "____________________ test_important_function[5-400-5-False] ____________________\n",
            "\n",
            "pressure = 5, volume = 400, velocity = 5, low_fuel = False\n",
            "\n",
            "    @pytest.mark.parametrize([\"pressure\", \"volume\", \"velocity\", \"low_fuel\"],\n",
            "        make([[5,10,15],\n",
            "            [200, 300, 400],\n",
            "            [1, 2, 3, 4, 5],\n",
            "            [True, False]], length=3)\n",
            "    )\n",
            "    def test_important_function(pressure, volume, velocity, low_fuel):\n",
            ">       important_function(pressure, volume, velocity, low_fuel)\n",
            "\n",
            "sample_data/test_parameterized.py:27: \n",
            "_ _ _ _ _ _ _ _ _ _ _ _ _ _ _ _ _ _ _ _ _ _ _ _ _ _ _ _ _ _ _ _ _ _ _ _ _ _ _ _ \n",
            "sample_data/test_parameterized.py:8: in important_function\n",
            "    do_something_bad()\n",
            "_ _ _ _ _ _ _ _ _ _ _ _ _ _ _ _ _ _ _ _ _ _ _ _ _ _ _ _ _ _ _ _ _ _ _ _ _ _ _ _ \n",
            "\n",
            "    def do_something_bad():\n",
            ">       raise Exception(\"A bug happened!\")\n",
            "E       Exception: A bug happened!\n",
            "\n",
            "sample_data/test_parameterized.py:18: Exception\n",
            "===================== 1 failed, 44 passed in 0.10 seconds ======================\n"
          ],
          "name": "stdout"
        }
      ]
    },
    {
      "cell_type": "markdown",
      "metadata": {
        "id": "aN7Msq4BciwU",
        "colab_type": "text"
      },
      "source": [
        "When running this command, you will see the log of parameters used to test the function and spot the bug caused by the combination of values that satisfies `pressure < 10, volume > 300, and velocity == 5`."
      ]
    }
  ]
}
