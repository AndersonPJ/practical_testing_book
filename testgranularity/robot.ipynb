{
 "cells": [
  {
   "cell_type": "markdown",
   "metadata": {},
   "source": [
    "Prerequisite\n",
    "================\n",
    "\n",
    "Python must be installed and the Robot Framework supports Python 2 and Python 3 versions. "
   ]
  },
  {
   "cell_type": "markdown",
   "metadata": {},
   "source": [
    "For installation it is recommended to use the pip even with some other options. If you have pip installed, you can run the following command:"
   ]
  },
  {
   "cell_type": "code",
   "execution_count": 5,
   "metadata": {},
   "outputs": [
    {
     "name": "stdout",
     "output_type": "stream",
     "text": [
      "WARNING: pip is being invoked by an old script wrapper. This will fail in a future version of pip.\n",
      "Please see https://github.com/pypa/pip/issues/5599 for advice on fixing the underlying issue.\n",
      "To avoid this problem you can invoke Python with '-m pip' instead of running pip directly.\n",
      "Defaulting to user installation because normal site-packages is not writeable\n",
      "Requirement already satisfied: robotframework in /home/raquelmso/.local/lib/python3.6/site-packages (3.2.1)\n"
     ]
    }
   ],
   "source": [
    "!pip3 install robotframework"
   ]
  },
  {
   "cell_type": "markdown",
   "metadata": {},
   "source": [
    "If you want to update to the latest version, just enter the following command:"
   ]
  },
  {
   "cell_type": "code",
   "execution_count": 6,
   "metadata": {},
   "outputs": [
    {
     "name": "stdout",
     "output_type": "stream",
     "text": [
      "WARNING: pip is being invoked by an old script wrapper. This will fail in a future version of pip.\n",
      "Please see https://github.com/pypa/pip/issues/5599 for advice on fixing the underlying issue.\n",
      "To avoid this problem you can invoke Python with '-m pip' instead of running pip directly.\n",
      "Defaulting to user installation because normal site-packages is not writeable\n",
      "Requirement already up-to-date: robotframework in /home/raquelmso/.local/lib/python3.6/site-packages (3.2.1)\n"
     ]
    }
   ],
   "source": [
    "!pip3 install --upgrade robotframework"
   ]
  },
  {
   "cell_type": "markdown",
   "metadata": {},
   "source": [
    "After installing, you can check the version of the Robot Framework and the interpreter by executing the following commands, respectively:"
   ]
  },
  {
   "cell_type": "code",
   "execution_count": 7,
   "metadata": {},
   "outputs": [
    {
     "name": "stdout",
     "output_type": "stream",
     "text": [
      "Robot Framework 3.2.1 (Python 3.6.9 on linux)\r\n"
     ]
    }
   ],
   "source": [
    "!robot --version"
   ]
  },
  {
   "cell_type": "code",
   "execution_count": 8,
   "metadata": {},
   "outputs": [
    {
     "name": "stdout",
     "output_type": "stream",
     "text": [
      "Rebot 3.2.1 (Python 3.6.9 on linux)\r\n"
     ]
    }
   ],
   "source": [
    "!rebot --version"
   ]
  },
  {
   "cell_type": "markdown",
   "metadata": {},
   "source": [
    "To perform the web test we will use the SeleniumLibrary library and to do the installation, we can execute the following line at the prompt:"
   ]
  },
  {
   "cell_type": "code",
   "execution_count": 9,
   "metadata": {},
   "outputs": [
    {
     "name": "stdout",
     "output_type": "stream",
     "text": [
      "WARNING: pip is being invoked by an old script wrapper. This will fail in a future version of pip.\n",
      "Please see https://github.com/pypa/pip/issues/5599 for advice on fixing the underlying issue.\n",
      "To avoid this problem you can invoke Python with '-m pip' instead of running pip directly.\n",
      "Defaulting to user installation because normal site-packages is not writeable\n",
      "Collecting robotframework-selenium2library\n",
      "  Downloading robotframework_selenium2library-3.0.0-py2.py3-none-any.whl (6.2 kB)\n",
      "Collecting robotframework-seleniumlibrary>=3.0.0\n",
      "  Downloading robotframework_seleniumlibrary-4.5.0-py2.py3-none-any.whl (89 kB)\n",
      "\u001b[K     |████████████████████████████████| 89 kB 503 kB/s eta 0:00:01\n",
      "\u001b[?25hCollecting selenium>=3.141.0\n",
      "  Downloading selenium-3.141.0-py2.py3-none-any.whl (904 kB)\n",
      "\u001b[K     |████████████████████████████████| 904 kB 2.6 MB/s eta 0:00:01\n",
      "\u001b[?25hRequirement already satisfied, skipping upgrade: robotframework>=3.1.2 in /home/raquelmso/.local/lib/python3.6/site-packages (from robotframework-seleniumlibrary>=3.0.0->robotframework-selenium2library) (3.2.1)\n",
      "Collecting robotframework-pythonlibcore>=2.1.0\n",
      "  Downloading robotframework_pythonlibcore-2.1.0-py2.py3-none-any.whl (10 kB)\n",
      "Requirement already satisfied, skipping upgrade: urllib3 in /usr/lib/python3/dist-packages (from selenium>=3.141.0->robotframework-seleniumlibrary>=3.0.0->robotframework-selenium2library) (1.22)\n",
      "Installing collected packages: selenium, robotframework-pythonlibcore, robotframework-seleniumlibrary, robotframework-selenium2library\n",
      "Successfully installed robotframework-pythonlibcore-2.1.0 robotframework-selenium2library-3.0.0 robotframework-seleniumlibrary-4.5.0 selenium-3.141.0\n"
     ]
    }
   ],
   "source": [
    "!pip3 install --upgrade robotframework-selenium2library"
   ]
  },
  {
   "cell_type": "markdown",
   "metadata": {},
   "source": [
    "We will need a browser driver and you can choose the browser of your choice, here we will make use of ChromeDriver which is suitable for Chrome. You can also use these drivers to do UI tests with Selenium only, for more information you can take a look at this {cite}`selenium` [*tutorial*](https://medium.com/@lais.farias95/nosso-segundo-teste-tem-um-pouco-mais-de-a%C3%A7%C3%B5es-e-verifica%C3%A7%C3%B5es-e0cd733ed090).\n",
    "\n",
    "To install chromedriver, we need to download the driver corresponding to your browser version and place it in a PATH directory"
   ]
  }
 ],
 "metadata": {
  "kernelspec": {
   "display_name": "Python 2",
   "language": "python",
   "name": "python2"
  },
  "language_info": {
   "codemirror_mode": {
    "name": "ipython",
    "version": 2
   },
   "file_extension": ".py",
   "mimetype": "text/x-python",
   "name": "python",
   "nbconvert_exporter": "python",
   "pygments_lexer": "ipython2",
   "version": "2.7.17"
  }
 },
 "nbformat": 4,
 "nbformat_minor": 2
}
