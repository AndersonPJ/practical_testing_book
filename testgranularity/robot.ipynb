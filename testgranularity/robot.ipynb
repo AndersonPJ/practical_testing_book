{
 "cells": [
  {
   "cell_type": "markdown",
   "metadata": {},
   "source": [
    "Hands On: Robot with Selenium2Library\n",
    "================\n",
    "\n",
    "## Prerequisite\n",
    "\n",
    "Python must be installed and the Robot Framework supports Python 2 and Python 3 versions. To check the current version on your machine, run the following command:"
   ]
  },
  {
   "cell_type": "code",
   "execution_count": 5,
   "metadata": {},
   "outputs": [
    {
     "ename": "NameError",
     "evalue": "name 'python' is not defined",
     "output_type": "error",
     "traceback": [
      "\u001b[0;31m---------------------------------------------------------------------------\u001b[0m",
      "\u001b[0;31mNameError\u001b[0m                                 Traceback (most recent call last)",
      "\u001b[0;32m<ipython-input-5-a4637bbefc43>\u001b[0m in \u001b[0;36m<module>\u001b[0;34m()\u001b[0m\n\u001b[0;32m----> 1\u001b[0;31m \u001b[0mpython\u001b[0m \u001b[0;34m-\u001b[0m\u001b[0;34m-\u001b[0m\u001b[0mversion\u001b[0m\u001b[0;34m\u001b[0m\u001b[0m\n\u001b[0m",
      "\u001b[0;31mNameError\u001b[0m: name 'python' is not defined"
     ]
    }
   ],
   "source": [
    "python --version"
   ]
  },
  {
   "cell_type": "markdown",
   "metadata": {},
   "source": [
    "For installation it is recommended to use the pip even with some other options. If you have pip installed, you can run the following command:"
   ]
  },
  {
   "cell_type": "code",
   "execution_count": 6,
   "metadata": {},
   "outputs": [
    {
     "name": "stdout",
     "output_type": "stream",
     "text": [
      "WARNING: pip is being invoked by an old script wrapper. This will fail in a future version of pip.\n",
      "Please see https://github.com/pypa/pip/issues/5599 for advice on fixing the underlying issue.\n",
      "To avoid this problem you can invoke Python with '-m pip' instead of running pip directly.\n",
      "\u001b[33mDEPRECATION: Python 2.7 reached the end of its life on January 1st, 2020. Please upgrade your Python as Python 2.7 is no longer maintained. pip 21.0 will drop support for Python 2.7 in January 2021. More details about Python 2 support in pip can be found at https://pip.pypa.io/en/latest/development/release-process/#python-2-support\u001b[0m\n",
      "Defaulting to user installation because normal site-packages is not writeable\n",
      "Requirement already satisfied: robotframework in /home/raquelmso/.local/lib/python2.7/site-packages (3.2.1)\n"
     ]
    }
   ],
   "source": [
    "!pip install robotframework"
   ]
  },
  {
   "cell_type": "markdown",
   "metadata": {},
   "source": [
    "If you want to update to the latest version, just enter the following command:"
   ]
  },
  {
   "cell_type": "code",
   "execution_count": null,
   "metadata": {},
   "outputs": [],
   "source": [
    "!pip install --upgrade robotframework"
   ]
  },
  {
   "cell_type": "markdown",
   "metadata": {},
   "source": [
    "After installing, you can check the version of the Robot Framework and the interpreter by executing the following commands, respectively:"
   ]
  },
  {
   "cell_type": "code",
   "execution_count": null,
   "metadata": {},
   "outputs": [],
   "source": [
    "robot --version"
   ]
  },
  {
   "cell_type": "code",
   "execution_count": null,
   "metadata": {},
   "outputs": [],
   "source": [
    "rebot --version"
   ]
  },
  {
   "cell_type": "markdown",
   "metadata": {},
   "source": [
    "To perform the web test we will use the SeleniumLibrary library and to do the installation, we can execute the following line at the prompt:"
   ]
  },
  {
   "cell_type": "code",
   "execution_count": null,
   "metadata": {},
   "outputs": [],
   "source": [
    "!pip install --upgrade robotframework-selenium2library"
   ]
  },
  {
   "cell_type": "markdown",
   "metadata": {},
   "source": [
    "We will need a browser driver and you can choose the browser of your choice, here we will make use of ChromeDriver which is suitable for Chrome. You can also use these drivers to do UI tests with Selenium only, for more information you can take a look at this [*tutorial*](https://medium.com/@lais.farias95/nosso-segundo-teste-tem-um-pouco-mais-de-a%C3%A7%C3%B5es-e-verifica%C3%A7%C3%B5es-e0cd733ed090).\n",
    "\n",
    "To install chromedriver, we need to download the driver corresponding to your browser version and place it in a PATH directory"
   ]
  },
  {
   "cell_type": "markdown",
   "metadata": {},
   "source": [
    "## Examples"
   ]
  },
  {
   "cell_type": "markdown",
   "metadata": {},
   "source": [
    "The test below will do the following steps:\n",
    "1. open the google chrome browser\n",
    "2. open the website https://www.amazon.in \n",
    "3. in the search bar it will type \"unit test book\"\n",
    "4. check if the results returned in the search correspond to test books of unity"
   ]
  },
  {
   "cell_type": "markdown",
   "metadata": {},
   "source": [
    "To identify the search bar and button, their respective html identifiers are used in the javascript code of the page.\n",
    "\n",
    "**Tip**: just open the page, and with the right button choose *inspect*."
   ]
  },
  {
   "cell_type": "markdown",
   "metadata": {},
   "source": [
    "` *** Settings *** `\n",
    "\n",
    "`Library           Selenium2Library`\n",
    "\n",
    "`Suite Setup  Go to homepage`\n",
    "\n",
    "`Suite Teardown  Close All Browsers`\n",
    "\n",
    "\n",
    "`*** Variables ***`\n",
    "\n",
    "`${HOMEPAGE}      https://www.amazon.in`\n",
    "\n",
    "`${BROWSER}        chrome`\n",
    "\n",
    " \n",
    "`*** Test Cases ***`\n",
    "\n",
    "`Amazon page and find books`\n",
    "\n",
    "`Amazon and check results   unit test book   results for \"unit test book\"`\n",
    "\n",
    " \n",
    "`*** Keywords ***`\n",
    "\n",
    "`Amazon and check results`\n",
    "\n",
    "`    [Arguments]     ${searchkey}     ${result}`\n",
    "\n",
    "`    Input Text      id=twotabsearchtextbox     ${searchkey}`\n",
    "\n",
    "`    Click Element    xpath=//div[@class='nav-search-submit nav-sprite']/input[@class='nav-input' and 1]`\n",
    "\n",
    "`    Wait Until Page Contains    ${result}`\n",
    " \n",
    "`Go to homepage`\n",
    "\n",
    "`    Open Browser    ${HOMEPAGE}     ${BROWSER}`"
   ]
  },
  {
   "cell_type": "markdown",
   "metadata": {},
   "source": [
    "To start running the Robot Framework we will use the robot that runs the test scripts and the rebot for the processed results."
   ]
  },
  {
   "cell_type": "markdown",
   "metadata": {},
   "source": [
    "You must create a file and save it as a .robot to place all your test cases. Then run:"
   ]
  },
  {
   "cell_type": "markdown",
   "metadata": {},
   "source": [
    "*robot namefile.robot*"
   ]
  },
  {
   "cell_type": "markdown",
   "metadata": {},
   "source": [
    "This command will run the test suite and generate screenshots and files with all test reports."
   ]
  },
  {
   "cell_type": "markdown",
   "metadata": {},
   "source": [
    "---\n",
    "**Challenge. Let's Test!**\n",
    "> On this [*link*](http://robotframework.org/SeleniumLibrary/SeleniumLibrary.html#Click%20Link) site you will find all the keywords that can be used to create web interface tests using this same configuration.\n",
    "> Use and abuse your creativity to create more tests.\n",
    ">\n",
    ">To encourage you, I challenge you to create a test that opens firefox browser, go to robotframework.org and capture a screenshot of the home screen.\n",
    "---"
   ]
  },
  {
   "cell_type": "code",
   "execution_count": null,
   "metadata": {},
   "outputs": [],
   "source": []
  }
 ],
 "metadata": {
  "kernelspec": {
   "display_name": "Python 2",
   "language": "python",
   "name": "python2"
  },
  "language_info": {
   "codemirror_mode": {
    "name": "ipython",
    "version": 2
   },
   "file_extension": ".py",
   "mimetype": "text/x-python",
   "name": "python",
   "nbconvert_exporter": "python",
   "pygments_lexer": "ipython2",
   "version": "2.7.17"
  }
 },
 "nbformat": 4,
 "nbformat_minor": 2
}
